{
 "cells": [
  {
   "cell_type": "code",
   "execution_count": 50,
   "metadata": {},
   "outputs": [],
   "source": [
    "# import packages\n",
    "\n",
    "import pandas as pd\n",
    "import geopandas as gpd\n",
    "import numpy as np\n",
    "import os\n",
    "import matplotlib.pyplot as plt\n",
    "import urllib\n",
    "import scipy.stats\n",
    "\n",
    "% matplotlib inline"
   ]
  },
  {
   "cell_type": "markdown",
   "metadata": {},
   "source": [
    "## Download Datasets"
   ]
  },
  {
   "cell_type": "markdown",
   "metadata": {},
   "source": [
    "### 311 Calls\n",
    "\n",
    "First, download the dataset of 311 complaints, from NYC Open Data:\n",
    "\n",
    "https://data.cityofnewyork.us/Social-Services/NYC-311-SR-CB-16-Brooklyn/f64a-ak3a\n",
    "\n",
    "\n",
    "I used the API to filter the very large dataset based on borough, using just Brooklyn data.  This will make the dataset more manageable."
   ]
  },
  {
   "cell_type": "code",
   "execution_count": 2,
   "metadata": {},
   "outputs": [],
   "source": [
    "#urllib.request.urlretrieve('https://data.cityofnewyork.us/api/views/43ah-y5hp/rows.csv?accessType=DOWNLOAD',\n",
    "#                           'brooklyn311.csv')"
   ]
  },
  {
   "cell_type": "code",
   "execution_count": 3,
   "metadata": {},
   "outputs": [],
   "source": [
    "#!mv brooklyn311.csv $PUIDATA"
   ]
  },
  {
   "cell_type": "code",
   "execution_count": 4,
   "metadata": {},
   "outputs": [
    {
     "name": "stderr",
     "output_type": "stream",
     "text": [
      "/usr/local/Anaconda3-5.0.0-Linux-x86_64/envs/ADS/lib/python3.5/site-packages/IPython/core/interactiveshell.py:2785: DtypeWarning: Columns (8,17,31,32,33,34,35,36,37) have mixed types. Specify dtype option on import or set low_memory=False.\n",
      "  interactivity=interactivity, compiler=compiler, result=result)\n"
     ]
    }
   ],
   "source": [
    "brooklyn311 = pd.read_csv('/nfshome/jl9489/PUIdata/brooklyn311.csv')"
   ]
  },
  {
   "cell_type": "code",
   "execution_count": 5,
   "metadata": {},
   "outputs": [
    {
     "data": {
      "text/html": [
       "<div>\n",
       "<style scoped>\n",
       "    .dataframe tbody tr th:only-of-type {\n",
       "        vertical-align: middle;\n",
       "    }\n",
       "\n",
       "    .dataframe tbody tr th {\n",
       "        vertical-align: top;\n",
       "    }\n",
       "\n",
       "    .dataframe thead th {\n",
       "        text-align: right;\n",
       "    }\n",
       "</style>\n",
       "<table border=\"1\" class=\"dataframe\">\n",
       "  <thead>\n",
       "    <tr style=\"text-align: right;\">\n",
       "      <th></th>\n",
       "      <th>Unique Key</th>\n",
       "      <th>Created Date</th>\n",
       "      <th>Closed Date</th>\n",
       "      <th>Agency</th>\n",
       "      <th>Agency Name</th>\n",
       "      <th>Complaint Type</th>\n",
       "      <th>Descriptor</th>\n",
       "      <th>Location Type</th>\n",
       "      <th>Incident Zip</th>\n",
       "      <th>Incident Address</th>\n",
       "      <th>...</th>\n",
       "      <th>Vehicle Type</th>\n",
       "      <th>Taxi Company Borough</th>\n",
       "      <th>Taxi Pick Up Location</th>\n",
       "      <th>Bridge Highway Name</th>\n",
       "      <th>Bridge Highway Direction</th>\n",
       "      <th>Road Ramp</th>\n",
       "      <th>Bridge Highway Segment</th>\n",
       "      <th>Latitude</th>\n",
       "      <th>Longitude</th>\n",
       "      <th>Location</th>\n",
       "    </tr>\n",
       "  </thead>\n",
       "  <tbody>\n",
       "    <tr>\n",
       "      <th>0</th>\n",
       "      <td>15633018</td>\n",
       "      <td>01/01/2010 05:26:50 AM</td>\n",
       "      <td>01/01/2010 07:10:33 AM</td>\n",
       "      <td>NYPD</td>\n",
       "      <td>New York City Police Department</td>\n",
       "      <td>Noise - Commercial</td>\n",
       "      <td>Loud Music/Party</td>\n",
       "      <td>Club/Bar/Restaurant</td>\n",
       "      <td>11231</td>\n",
       "      <td>18 COMMERCE STREET</td>\n",
       "      <td>...</td>\n",
       "      <td>NaN</td>\n",
       "      <td>NaN</td>\n",
       "      <td>NaN</td>\n",
       "      <td>NaN</td>\n",
       "      <td>NaN</td>\n",
       "      <td>NaN</td>\n",
       "      <td>NaN</td>\n",
       "      <td>40.679463</td>\n",
       "      <td>-74.006194</td>\n",
       "      <td>(40.679462574203264, -74.00619397646842)</td>\n",
       "    </tr>\n",
       "    <tr>\n",
       "      <th>1</th>\n",
       "      <td>15633024</td>\n",
       "      <td>01/01/2010 10:53:50 AM</td>\n",
       "      <td>01/01/2010 08:28:32 PM</td>\n",
       "      <td>NYPD</td>\n",
       "      <td>New York City Police Department</td>\n",
       "      <td>Blocked Driveway</td>\n",
       "      <td>No Access</td>\n",
       "      <td>Street/Sidewalk</td>\n",
       "      <td>11207</td>\n",
       "      <td>154 VERMONT STREET</td>\n",
       "      <td>...</td>\n",
       "      <td>NaN</td>\n",
       "      <td>NaN</td>\n",
       "      <td>NaN</td>\n",
       "      <td>NaN</td>\n",
       "      <td>NaN</td>\n",
       "      <td>NaN</td>\n",
       "      <td>NaN</td>\n",
       "      <td>40.676418</td>\n",
       "      <td>-73.895050</td>\n",
       "      <td>(40.67641758182457, -73.89504967447354)</td>\n",
       "    </tr>\n",
       "    <tr>\n",
       "      <th>2</th>\n",
       "      <td>15633034</td>\n",
       "      <td>01/01/2010 05:11:31 AM</td>\n",
       "      <td>01/01/2010 06:31:54 AM</td>\n",
       "      <td>NYPD</td>\n",
       "      <td>New York City Police Department</td>\n",
       "      <td>Blocked Driveway</td>\n",
       "      <td>No Access</td>\n",
       "      <td>Street/Sidewalk</td>\n",
       "      <td>11204</td>\n",
       "      <td>242 AVENUE P</td>\n",
       "      <td>...</td>\n",
       "      <td>NaN</td>\n",
       "      <td>NaN</td>\n",
       "      <td>NaN</td>\n",
       "      <td>NaN</td>\n",
       "      <td>NaN</td>\n",
       "      <td>NaN</td>\n",
       "      <td>NaN</td>\n",
       "      <td>40.608140</td>\n",
       "      <td>-73.979039</td>\n",
       "      <td>(40.6081403459732, -73.97903933007782)</td>\n",
       "    </tr>\n",
       "    <tr>\n",
       "      <th>3</th>\n",
       "      <td>15633045</td>\n",
       "      <td>01/01/2010 06:01:09 AM</td>\n",
       "      <td>01/01/2010 07:32:01 AM</td>\n",
       "      <td>NYPD</td>\n",
       "      <td>New York City Police Department</td>\n",
       "      <td>Noise - Residential</td>\n",
       "      <td>Loud Music/Party</td>\n",
       "      <td>Residential Building/House</td>\n",
       "      <td>11205</td>\n",
       "      <td>NaN</td>\n",
       "      <td>...</td>\n",
       "      <td>NaN</td>\n",
       "      <td>NaN</td>\n",
       "      <td>NaN</td>\n",
       "      <td>NaN</td>\n",
       "      <td>NaN</td>\n",
       "      <td>NaN</td>\n",
       "      <td>NaN</td>\n",
       "      <td>40.691645</td>\n",
       "      <td>-73.967532</td>\n",
       "      <td>(40.69164494541561, -73.96753157441104)</td>\n",
       "    </tr>\n",
       "    <tr>\n",
       "      <th>4</th>\n",
       "      <td>15633051</td>\n",
       "      <td>01/01/2010 09:29:08 AM</td>\n",
       "      <td>01/01/2010 10:11:05 AM</td>\n",
       "      <td>NYPD</td>\n",
       "      <td>New York City Police Department</td>\n",
       "      <td>Noise - Vehicle</td>\n",
       "      <td>Car/Truck Horn</td>\n",
       "      <td>Street/Sidewalk</td>\n",
       "      <td>11204</td>\n",
       "      <td>2312 65 STREET</td>\n",
       "      <td>...</td>\n",
       "      <td>NaN</td>\n",
       "      <td>NaN</td>\n",
       "      <td>NaN</td>\n",
       "      <td>NaN</td>\n",
       "      <td>NaN</td>\n",
       "      <td>NaN</td>\n",
       "      <td>NaN</td>\n",
       "      <td>40.612343</td>\n",
       "      <td>-73.978973</td>\n",
       "      <td>(40.6123426145112, -73.9789731797154)</td>\n",
       "    </tr>\n",
       "  </tbody>\n",
       "</table>\n",
       "<p>5 rows × 41 columns</p>\n",
       "</div>"
      ],
      "text/plain": [
       "   Unique Key            Created Date             Closed Date Agency  \\\n",
       "0    15633018  01/01/2010 05:26:50 AM  01/01/2010 07:10:33 AM   NYPD   \n",
       "1    15633024  01/01/2010 10:53:50 AM  01/01/2010 08:28:32 PM   NYPD   \n",
       "2    15633034  01/01/2010 05:11:31 AM  01/01/2010 06:31:54 AM   NYPD   \n",
       "3    15633045  01/01/2010 06:01:09 AM  01/01/2010 07:32:01 AM   NYPD   \n",
       "4    15633051  01/01/2010 09:29:08 AM  01/01/2010 10:11:05 AM   NYPD   \n",
       "\n",
       "                       Agency Name       Complaint Type        Descriptor  \\\n",
       "0  New York City Police Department   Noise - Commercial  Loud Music/Party   \n",
       "1  New York City Police Department     Blocked Driveway         No Access   \n",
       "2  New York City Police Department     Blocked Driveway         No Access   \n",
       "3  New York City Police Department  Noise - Residential  Loud Music/Party   \n",
       "4  New York City Police Department      Noise - Vehicle    Car/Truck Horn   \n",
       "\n",
       "                Location Type Incident Zip    Incident Address  \\\n",
       "0         Club/Bar/Restaurant        11231  18 COMMERCE STREET   \n",
       "1             Street/Sidewalk        11207  154 VERMONT STREET   \n",
       "2             Street/Sidewalk        11204        242 AVENUE P   \n",
       "3  Residential Building/House        11205                 NaN   \n",
       "4             Street/Sidewalk        11204      2312 65 STREET   \n",
       "\n",
       "                     ...                    Vehicle Type Taxi Company Borough  \\\n",
       "0                    ...                             NaN                  NaN   \n",
       "1                    ...                             NaN                  NaN   \n",
       "2                    ...                             NaN                  NaN   \n",
       "3                    ...                             NaN                  NaN   \n",
       "4                    ...                             NaN                  NaN   \n",
       "\n",
       "  Taxi Pick Up Location Bridge Highway Name Bridge Highway Direction  \\\n",
       "0                   NaN                 NaN                      NaN   \n",
       "1                   NaN                 NaN                      NaN   \n",
       "2                   NaN                 NaN                      NaN   \n",
       "3                   NaN                 NaN                      NaN   \n",
       "4                   NaN                 NaN                      NaN   \n",
       "\n",
       "  Road Ramp Bridge Highway Segment   Latitude  Longitude  \\\n",
       "0       NaN                    NaN  40.679463 -74.006194   \n",
       "1       NaN                    NaN  40.676418 -73.895050   \n",
       "2       NaN                    NaN  40.608140 -73.979039   \n",
       "3       NaN                    NaN  40.691645 -73.967532   \n",
       "4       NaN                    NaN  40.612343 -73.978973   \n",
       "\n",
       "                                   Location  \n",
       "0  (40.679462574203264, -74.00619397646842)  \n",
       "1   (40.67641758182457, -73.89504967447354)  \n",
       "2    (40.6081403459732, -73.97903933007782)  \n",
       "3   (40.69164494541561, -73.96753157441104)  \n",
       "4     (40.6123426145112, -73.9789731797154)  \n",
       "\n",
       "[5 rows x 41 columns]"
      ]
     },
     "execution_count": 5,
     "metadata": {},
     "output_type": "execute_result"
    }
   ],
   "source": [
    "brooklyn311.head()"
   ]
  },
  {
   "cell_type": "code",
   "execution_count": 6,
   "metadata": {},
   "outputs": [
    {
     "data": {
      "text/plain": [
       "Index(['Unique Key', 'Created Date', 'Closed Date', 'Agency', 'Agency Name',\n",
       "       'Complaint Type', 'Descriptor', 'Location Type', 'Incident Zip',\n",
       "       'Incident Address', 'Street Name', 'Cross Street 1', 'Cross Street 2',\n",
       "       'Intersection Street 1', 'Intersection Street 2', 'Address Type',\n",
       "       'City', 'Landmark', 'Facility Type', 'Status', 'Due Date',\n",
       "       'Resolution Description', 'Resolution Action Updated Date',\n",
       "       'Community Board', 'BBL', 'Borough', 'X Coordinate (State Plane)',\n",
       "       'Y Coordinate (State Plane)', 'Open Data Channel Type',\n",
       "       'Park Facility Name', 'Park Borough', 'Vehicle Type',\n",
       "       'Taxi Company Borough', 'Taxi Pick Up Location', 'Bridge Highway Name',\n",
       "       'Bridge Highway Direction', 'Road Ramp', 'Bridge Highway Segment',\n",
       "       'Latitude', 'Longitude', 'Location'],\n",
       "      dtype='object')"
      ]
     },
     "execution_count": 6,
     "metadata": {},
     "output_type": "execute_result"
    }
   ],
   "source": [
    "brooklyn311.columns"
   ]
  },
  {
   "cell_type": "code",
   "execution_count": 7,
   "metadata": {},
   "outputs": [
    {
     "data": {
      "text/plain": [
       "(5731957, 41)"
      ]
     },
     "execution_count": 7,
     "metadata": {},
     "output_type": "execute_result"
    }
   ],
   "source": [
    "brooklyn311.shape"
   ]
  },
  {
   "cell_type": "code",
   "execution_count": 8,
   "metadata": {},
   "outputs": [],
   "source": [
    "# Filter for only necessary columns\n",
    "\n",
    "brooklyncalls = brooklyn311[['Unique Key','Created Date','Complaint Type','Descriptor','Location Type',\n",
    "            'Incident Zip','Incident Address',\n",
    "            'X Coordinate (State Plane)','Y Coordinate (State Plane)',\n",
    "             'Latitude', 'Longitude']]"
   ]
  },
  {
   "cell_type": "code",
   "execution_count": 9,
   "metadata": {},
   "outputs": [
    {
     "data": {
      "text/html": [
       "<div>\n",
       "<style scoped>\n",
       "    .dataframe tbody tr th:only-of-type {\n",
       "        vertical-align: middle;\n",
       "    }\n",
       "\n",
       "    .dataframe tbody tr th {\n",
       "        vertical-align: top;\n",
       "    }\n",
       "\n",
       "    .dataframe thead th {\n",
       "        text-align: right;\n",
       "    }\n",
       "</style>\n",
       "<table border=\"1\" class=\"dataframe\">\n",
       "  <thead>\n",
       "    <tr style=\"text-align: right;\">\n",
       "      <th></th>\n",
       "      <th>Unique Key</th>\n",
       "      <th>Created Date</th>\n",
       "      <th>Complaint Type</th>\n",
       "      <th>Descriptor</th>\n",
       "      <th>Location Type</th>\n",
       "      <th>Incident Zip</th>\n",
       "      <th>Incident Address</th>\n",
       "      <th>X Coordinate (State Plane)</th>\n",
       "      <th>Y Coordinate (State Plane)</th>\n",
       "      <th>Latitude</th>\n",
       "      <th>Longitude</th>\n",
       "    </tr>\n",
       "  </thead>\n",
       "  <tbody>\n",
       "    <tr>\n",
       "      <th>0</th>\n",
       "      <td>15633018</td>\n",
       "      <td>01/01/2010 05:26:50 AM</td>\n",
       "      <td>Noise - Commercial</td>\n",
       "      <td>Loud Music/Party</td>\n",
       "      <td>Club/Bar/Restaurant</td>\n",
       "      <td>11231</td>\n",
       "      <td>18 COMMERCE STREET</td>\n",
       "      <td>982532.0</td>\n",
       "      <td>186823.0</td>\n",
       "      <td>40.679463</td>\n",
       "      <td>-74.006194</td>\n",
       "    </tr>\n",
       "    <tr>\n",
       "      <th>1</th>\n",
       "      <td>15633024</td>\n",
       "      <td>01/01/2010 10:53:50 AM</td>\n",
       "      <td>Blocked Driveway</td>\n",
       "      <td>No Access</td>\n",
       "      <td>Street/Sidewalk</td>\n",
       "      <td>11207</td>\n",
       "      <td>154 VERMONT STREET</td>\n",
       "      <td>1013361.0</td>\n",
       "      <td>185731.0</td>\n",
       "      <td>40.676418</td>\n",
       "      <td>-73.895050</td>\n",
       "    </tr>\n",
       "    <tr>\n",
       "      <th>2</th>\n",
       "      <td>15633034</td>\n",
       "      <td>01/01/2010 05:11:31 AM</td>\n",
       "      <td>Blocked Driveway</td>\n",
       "      <td>No Access</td>\n",
       "      <td>Street/Sidewalk</td>\n",
       "      <td>11204</td>\n",
       "      <td>242 AVENUE P</td>\n",
       "      <td>990070.0</td>\n",
       "      <td>160839.0</td>\n",
       "      <td>40.608140</td>\n",
       "      <td>-73.979039</td>\n",
       "    </tr>\n",
       "    <tr>\n",
       "      <th>3</th>\n",
       "      <td>15633045</td>\n",
       "      <td>01/01/2010 06:01:09 AM</td>\n",
       "      <td>Noise - Residential</td>\n",
       "      <td>Loud Music/Party</td>\n",
       "      <td>Residential Building/House</td>\n",
       "      <td>11205</td>\n",
       "      <td>NaN</td>\n",
       "      <td>993254.0</td>\n",
       "      <td>191263.0</td>\n",
       "      <td>40.691645</td>\n",
       "      <td>-73.967532</td>\n",
       "    </tr>\n",
       "    <tr>\n",
       "      <th>4</th>\n",
       "      <td>15633051</td>\n",
       "      <td>01/01/2010 09:29:08 AM</td>\n",
       "      <td>Noise - Vehicle</td>\n",
       "      <td>Car/Truck Horn</td>\n",
       "      <td>Street/Sidewalk</td>\n",
       "      <td>11204</td>\n",
       "      <td>2312 65 STREET</td>\n",
       "      <td>990088.0</td>\n",
       "      <td>162370.0</td>\n",
       "      <td>40.612343</td>\n",
       "      <td>-73.978973</td>\n",
       "    </tr>\n",
       "  </tbody>\n",
       "</table>\n",
       "</div>"
      ],
      "text/plain": [
       "   Unique Key            Created Date       Complaint Type        Descriptor  \\\n",
       "0    15633018  01/01/2010 05:26:50 AM   Noise - Commercial  Loud Music/Party   \n",
       "1    15633024  01/01/2010 10:53:50 AM     Blocked Driveway         No Access   \n",
       "2    15633034  01/01/2010 05:11:31 AM     Blocked Driveway         No Access   \n",
       "3    15633045  01/01/2010 06:01:09 AM  Noise - Residential  Loud Music/Party   \n",
       "4    15633051  01/01/2010 09:29:08 AM      Noise - Vehicle    Car/Truck Horn   \n",
       "\n",
       "                Location Type Incident Zip    Incident Address  \\\n",
       "0         Club/Bar/Restaurant        11231  18 COMMERCE STREET   \n",
       "1             Street/Sidewalk        11207  154 VERMONT STREET   \n",
       "2             Street/Sidewalk        11204        242 AVENUE P   \n",
       "3  Residential Building/House        11205                 NaN   \n",
       "4             Street/Sidewalk        11204      2312 65 STREET   \n",
       "\n",
       "   X Coordinate (State Plane)  Y Coordinate (State Plane)   Latitude  \\\n",
       "0                    982532.0                    186823.0  40.679463   \n",
       "1                   1013361.0                    185731.0  40.676418   \n",
       "2                    990070.0                    160839.0  40.608140   \n",
       "3                    993254.0                    191263.0  40.691645   \n",
       "4                    990088.0                    162370.0  40.612343   \n",
       "\n",
       "   Longitude  \n",
       "0 -74.006194  \n",
       "1 -73.895050  \n",
       "2 -73.979039  \n",
       "3 -73.967532  \n",
       "4 -73.978973  "
      ]
     },
     "execution_count": 9,
     "metadata": {},
     "output_type": "execute_result"
    }
   ],
   "source": [
    "brooklyncalls.head()"
   ]
  },
  {
   "cell_type": "code",
   "execution_count": 10,
   "metadata": {},
   "outputs": [
    {
     "data": {
      "text/plain": [
       "Noise - Residential                    470765\n",
       "HEAT/HOT WATER                         309020\n",
       "Blocked Driveway                       284301\n",
       "Illegal Parking                        260129\n",
       "Street Condition                       244489\n",
       "Street Light Condition                 232257\n",
       "PLUMBING                               191265\n",
       "HEATING                                190325\n",
       "Water System                           156938\n",
       "General Construction/Plumbing          153312\n",
       "GENERAL CONSTRUCTION                   132848\n",
       "UNSANITARY CONDITION                   131869\n",
       "Traffic Signal Condition               126830\n",
       "Noise                                  107278\n",
       "Sanitation Condition                   106589\n",
       "PAINT/PLASTER                          103400\n",
       "Noise - Street/Sidewalk                102204\n",
       "Noise - Commercial                      99135\n",
       "Dirty Conditions                        98758\n",
       "PAINT - PLASTER                         94392\n",
       "ELECTRIC                                92609\n",
       "Sewer                                   89998\n",
       "Request Large Bulky Item Collection     80207\n",
       "Rodent                                  79697\n",
       "Damaged Tree                            74170\n",
       "Derelict Vehicles                       72965\n",
       "Building/Use                            71728\n",
       "NONCONST                                70018\n",
       "Missed Collection (All Materials)       69377\n",
       "Sidewalk Condition                      67001\n",
       "                                        ...  \n",
       "Cooling Tower                              10\n",
       "Interior Demo                               9\n",
       "Advocate-Property Value                     8\n",
       "NORC Complaint                              6\n",
       "Trans Fat                                   5\n",
       "Portable Toilet                             5\n",
       "Tanning                                     4\n",
       "STRUCTURAL                                  4\n",
       "Foam Ban Enforcement                        4\n",
       "No Child Left Behind                        4\n",
       "Lost Property                               3\n",
       "Advocate-Commercial Exemptions              3\n",
       "Squeegee                                    2\n",
       "Building Condition                          2\n",
       "Advocate-SCRIE/DRIE                         2\n",
       "SRDE                                        2\n",
       "Advocate - Lien                             2\n",
       "Advocate-UBT                                2\n",
       "DOF Parking - Request Status                1\n",
       "Damaged or Dead Tree                        1\n",
       "Asbestos/Garbage Nuisance                   1\n",
       "Advocate - Levy                             1\n",
       "Unlicensed Dog                              1\n",
       "AGENCY                                      1\n",
       "Standpipe - Mechanical                      1\n",
       "Advocate-Business Tax                       1\n",
       "Advocate - RPIE                             1\n",
       "FCST                                        1\n",
       "Hazardous Material                          1\n",
       "Advocate-Prop Class Incorrect               1\n",
       "Name: Complaint Type, Length: 242, dtype: int64"
      ]
     },
     "execution_count": 10,
     "metadata": {},
     "output_type": "execute_result"
    }
   ],
   "source": [
    "brooklyncalls['Complaint Type'].value_counts()"
   ]
  },
  {
   "cell_type": "code",
   "execution_count": 11,
   "metadata": {},
   "outputs": [],
   "source": [
    "# Filter only for residential noise complaints\n",
    "\n",
    "brooklyncall2 = brooklyncalls[brooklyncalls['Complaint Type']=='Noise - Residential']"
   ]
  },
  {
   "cell_type": "code",
   "execution_count": 12,
   "metadata": {},
   "outputs": [
    {
     "data": {
      "text/html": [
       "<div>\n",
       "<style scoped>\n",
       "    .dataframe tbody tr th:only-of-type {\n",
       "        vertical-align: middle;\n",
       "    }\n",
       "\n",
       "    .dataframe tbody tr th {\n",
       "        vertical-align: top;\n",
       "    }\n",
       "\n",
       "    .dataframe thead th {\n",
       "        text-align: right;\n",
       "    }\n",
       "</style>\n",
       "<table border=\"1\" class=\"dataframe\">\n",
       "  <thead>\n",
       "    <tr style=\"text-align: right;\">\n",
       "      <th></th>\n",
       "      <th>Unique Key</th>\n",
       "      <th>Created Date</th>\n",
       "      <th>Complaint Type</th>\n",
       "      <th>Descriptor</th>\n",
       "      <th>Location Type</th>\n",
       "      <th>Incident Zip</th>\n",
       "      <th>Incident Address</th>\n",
       "      <th>X Coordinate (State Plane)</th>\n",
       "      <th>Y Coordinate (State Plane)</th>\n",
       "      <th>Latitude</th>\n",
       "      <th>Longitude</th>\n",
       "    </tr>\n",
       "  </thead>\n",
       "  <tbody>\n",
       "    <tr>\n",
       "      <th>3</th>\n",
       "      <td>15633045</td>\n",
       "      <td>01/01/2010 06:01:09 AM</td>\n",
       "      <td>Noise - Residential</td>\n",
       "      <td>Loud Music/Party</td>\n",
       "      <td>Residential Building/House</td>\n",
       "      <td>11205</td>\n",
       "      <td>NaN</td>\n",
       "      <td>993254.0</td>\n",
       "      <td>191263.0</td>\n",
       "      <td>40.691645</td>\n",
       "      <td>-73.967532</td>\n",
       "    </tr>\n",
       "    <tr>\n",
       "      <th>6</th>\n",
       "      <td>15633056</td>\n",
       "      <td>01/01/2010 11:41:07 AM</td>\n",
       "      <td>Noise - Residential</td>\n",
       "      <td>Banging/Pounding</td>\n",
       "      <td>Residential Building/House</td>\n",
       "      <td>11236</td>\n",
       "      <td>1510 EAST 102 STREET</td>\n",
       "      <td>1016115.0</td>\n",
       "      <td>170836.0</td>\n",
       "      <td>40.635525</td>\n",
       "      <td>-73.885191</td>\n",
       "    </tr>\n",
       "    <tr>\n",
       "      <th>8</th>\n",
       "      <td>15633078</td>\n",
       "      <td>01/01/2010 01:17:37 PM</td>\n",
       "      <td>Noise - Residential</td>\n",
       "      <td>Loud Music/Party</td>\n",
       "      <td>Residential Building/House</td>\n",
       "      <td>11214</td>\n",
       "      <td>8609 BAY 16 STREET</td>\n",
       "      <td>983003.0</td>\n",
       "      <td>160703.0</td>\n",
       "      <td>40.607769</td>\n",
       "      <td>-74.004491</td>\n",
       "    </tr>\n",
       "    <tr>\n",
       "      <th>11</th>\n",
       "      <td>15633104</td>\n",
       "      <td>01/01/2010 08:22:25 AM</td>\n",
       "      <td>Noise - Residential</td>\n",
       "      <td>Loud Music/Party</td>\n",
       "      <td>Residential Building/House</td>\n",
       "      <td>11224</td>\n",
       "      <td>2840 WEST 15 STREET</td>\n",
       "      <td>988998.0</td>\n",
       "      <td>149915.0</td>\n",
       "      <td>40.578157</td>\n",
       "      <td>-73.982908</td>\n",
       "    </tr>\n",
       "    <tr>\n",
       "      <th>13</th>\n",
       "      <td>15633112</td>\n",
       "      <td>01/01/2010 03:11:14 AM</td>\n",
       "      <td>Noise - Residential</td>\n",
       "      <td>Loud Music/Party</td>\n",
       "      <td>Residential Building/House</td>\n",
       "      <td>11236</td>\n",
       "      <td>NaN</td>\n",
       "      <td>1008869.0</td>\n",
       "      <td>172228.0</td>\n",
       "      <td>40.639368</td>\n",
       "      <td>-73.911293</td>\n",
       "    </tr>\n",
       "  </tbody>\n",
       "</table>\n",
       "</div>"
      ],
      "text/plain": [
       "    Unique Key            Created Date       Complaint Type        Descriptor  \\\n",
       "3     15633045  01/01/2010 06:01:09 AM  Noise - Residential  Loud Music/Party   \n",
       "6     15633056  01/01/2010 11:41:07 AM  Noise - Residential  Banging/Pounding   \n",
       "8     15633078  01/01/2010 01:17:37 PM  Noise - Residential  Loud Music/Party   \n",
       "11    15633104  01/01/2010 08:22:25 AM  Noise - Residential  Loud Music/Party   \n",
       "13    15633112  01/01/2010 03:11:14 AM  Noise - Residential  Loud Music/Party   \n",
       "\n",
       "                 Location Type Incident Zip      Incident Address  \\\n",
       "3   Residential Building/House        11205                   NaN   \n",
       "6   Residential Building/House        11236  1510 EAST 102 STREET   \n",
       "8   Residential Building/House        11214    8609 BAY 16 STREET   \n",
       "11  Residential Building/House        11224   2840 WEST 15 STREET   \n",
       "13  Residential Building/House        11236                   NaN   \n",
       "\n",
       "    X Coordinate (State Plane)  Y Coordinate (State Plane)   Latitude  \\\n",
       "3                     993254.0                    191263.0  40.691645   \n",
       "6                    1016115.0                    170836.0  40.635525   \n",
       "8                     983003.0                    160703.0  40.607769   \n",
       "11                    988998.0                    149915.0  40.578157   \n",
       "13                   1008869.0                    172228.0  40.639368   \n",
       "\n",
       "    Longitude  \n",
       "3  -73.967532  \n",
       "6  -73.885191  \n",
       "8  -74.004491  \n",
       "11 -73.982908  \n",
       "13 -73.911293  "
      ]
     },
     "execution_count": 12,
     "metadata": {},
     "output_type": "execute_result"
    }
   ],
   "source": [
    "brooklyncall2.head()"
   ]
  },
  {
   "cell_type": "code",
   "execution_count": 13,
   "metadata": {},
   "outputs": [
    {
     "data": {
      "text/plain": [
       "(470765, 11)"
      ]
     },
     "execution_count": 13,
     "metadata": {},
     "output_type": "execute_result"
    }
   ],
   "source": [
    "brooklyncall2.shape"
   ]
  },
  {
   "cell_type": "code",
   "execution_count": 14,
   "metadata": {},
   "outputs": [
    {
     "name": "stderr",
     "output_type": "stream",
     "text": [
      "/usr/local/Anaconda3-5.0.0-Linux-x86_64/envs/ADS/lib/python3.5/site-packages/pandas/core/frame.py:3781: SettingWithCopyWarning: \n",
      "A value is trying to be set on a copy of a slice from a DataFrame\n",
      "\n",
      "See the caveats in the documentation: http://pandas.pydata.org/pandas-docs/stable/indexing.html#indexing-view-versus-copy\n",
      "  return super(DataFrame, self).rename(**kwargs)\n"
     ]
    }
   ],
   "source": [
    "brooklyncall2.rename(columns={'Incident Zip' : 'zip'}, inplace=True)"
   ]
  },
  {
   "cell_type": "code",
   "execution_count": 15,
   "metadata": {},
   "outputs": [
    {
     "name": "stderr",
     "output_type": "stream",
     "text": [
      "/usr/local/Anaconda3-5.0.0-Linux-x86_64/envs/ADS/lib/python3.5/site-packages/ipykernel_launcher.py:1: SettingWithCopyWarning: \n",
      "A value is trying to be set on a copy of a slice from a DataFrame\n",
      "\n",
      "See the caveats in the documentation: http://pandas.pydata.org/pandas-docs/stable/indexing.html#indexing-view-versus-copy\n",
      "  \"\"\"Entry point for launching an IPython kernel.\n",
      "/usr/local/Anaconda3-5.0.0-Linux-x86_64/envs/ADS/lib/python3.5/site-packages/ipykernel_launcher.py:2: SettingWithCopyWarning: \n",
      "A value is trying to be set on a copy of a slice from a DataFrame.\n",
      "Try using .loc[row_indexer,col_indexer] = value instead\n",
      "\n",
      "See the caveats in the documentation: http://pandas.pydata.org/pandas-docs/stable/indexing.html#indexing-view-versus-copy\n",
      "  \n"
     ]
    }
   ],
   "source": [
    "brooklyncall2.dropna(subset=['zip'], inplace=True)\n",
    "brooklyncall2['zip'] = brooklyncall2.zip.astype(int)"
   ]
  },
  {
   "cell_type": "markdown",
   "metadata": {},
   "source": [
    "### Shapefile\n",
    "\n",
    "Next, download the shape file, in order to plot on a map.  The file was taken from the City of New York database, with a shape file of all zip codes throughout the city."
   ]
  },
  {
   "cell_type": "code",
   "execution_count": 16,
   "metadata": {},
   "outputs": [],
   "source": [
    "# Download shape file. This was used in a previous assignment, and so I didn't download the entire zip file again.\n",
    "\n",
    "nyczipsshp = gpd.read_file(\"/nfshome/jl9489/PUIdata/ZIP_CODE_040114.shp\")"
   ]
  },
  {
   "cell_type": "code",
   "execution_count": 17,
   "metadata": {},
   "outputs": [
    {
     "data": {
      "text/html": [
       "<div>\n",
       "<style scoped>\n",
       "    .dataframe tbody tr th:only-of-type {\n",
       "        vertical-align: middle;\n",
       "    }\n",
       "\n",
       "    .dataframe tbody tr th {\n",
       "        vertical-align: top;\n",
       "    }\n",
       "\n",
       "    .dataframe thead th {\n",
       "        text-align: right;\n",
       "    }\n",
       "</style>\n",
       "<table border=\"1\" class=\"dataframe\">\n",
       "  <thead>\n",
       "    <tr style=\"text-align: right;\">\n",
       "      <th></th>\n",
       "      <th>ZIPCODE</th>\n",
       "      <th>BLDGZIP</th>\n",
       "      <th>PO_NAME</th>\n",
       "      <th>POPULATION</th>\n",
       "      <th>AREA</th>\n",
       "      <th>STATE</th>\n",
       "      <th>COUNTY</th>\n",
       "      <th>ST_FIPS</th>\n",
       "      <th>CTY_FIPS</th>\n",
       "      <th>URL</th>\n",
       "      <th>SHAPE_AREA</th>\n",
       "      <th>SHAPE_LEN</th>\n",
       "      <th>geometry</th>\n",
       "    </tr>\n",
       "  </thead>\n",
       "  <tbody>\n",
       "    <tr>\n",
       "      <th>0</th>\n",
       "      <td>11436</td>\n",
       "      <td>0</td>\n",
       "      <td>Jamaica</td>\n",
       "      <td>18681.0</td>\n",
       "      <td>2.269930e+07</td>\n",
       "      <td>NY</td>\n",
       "      <td>Queens</td>\n",
       "      <td>36</td>\n",
       "      <td>081</td>\n",
       "      <td>http://www.usps.com/</td>\n",
       "      <td>0.0</td>\n",
       "      <td>0.0</td>\n",
       "      <td>POLYGON ((1038098.251871482 188138.3800067157,...</td>\n",
       "    </tr>\n",
       "    <tr>\n",
       "      <th>1</th>\n",
       "      <td>11213</td>\n",
       "      <td>0</td>\n",
       "      <td>Brooklyn</td>\n",
       "      <td>62426.0</td>\n",
       "      <td>2.963100e+07</td>\n",
       "      <td>NY</td>\n",
       "      <td>Kings</td>\n",
       "      <td>36</td>\n",
       "      <td>047</td>\n",
       "      <td>http://www.usps.com/</td>\n",
       "      <td>0.0</td>\n",
       "      <td>0.0</td>\n",
       "      <td>POLYGON ((1001613.712964058 186926.4395172149,...</td>\n",
       "    </tr>\n",
       "    <tr>\n",
       "      <th>2</th>\n",
       "      <td>11212</td>\n",
       "      <td>0</td>\n",
       "      <td>Brooklyn</td>\n",
       "      <td>83866.0</td>\n",
       "      <td>4.197210e+07</td>\n",
       "      <td>NY</td>\n",
       "      <td>Kings</td>\n",
       "      <td>36</td>\n",
       "      <td>047</td>\n",
       "      <td>http://www.usps.com/</td>\n",
       "      <td>0.0</td>\n",
       "      <td>0.0</td>\n",
       "      <td>POLYGON ((1011174.275535807 183696.33770971, 1...</td>\n",
       "    </tr>\n",
       "    <tr>\n",
       "      <th>3</th>\n",
       "      <td>11225</td>\n",
       "      <td>0</td>\n",
       "      <td>Brooklyn</td>\n",
       "      <td>56527.0</td>\n",
       "      <td>2.369863e+07</td>\n",
       "      <td>NY</td>\n",
       "      <td>Kings</td>\n",
       "      <td>36</td>\n",
       "      <td>047</td>\n",
       "      <td>http://www.usps.com/</td>\n",
       "      <td>0.0</td>\n",
       "      <td>0.0</td>\n",
       "      <td>POLYGON ((995908.3654508889 183617.6128015518,...</td>\n",
       "    </tr>\n",
       "    <tr>\n",
       "      <th>4</th>\n",
       "      <td>11218</td>\n",
       "      <td>0</td>\n",
       "      <td>Brooklyn</td>\n",
       "      <td>72280.0</td>\n",
       "      <td>3.686880e+07</td>\n",
       "      <td>NY</td>\n",
       "      <td>Kings</td>\n",
       "      <td>36</td>\n",
       "      <td>047</td>\n",
       "      <td>http://www.usps.com/</td>\n",
       "      <td>0.0</td>\n",
       "      <td>0.0</td>\n",
       "      <td>POLYGON ((991997.1134308875 176307.4958601296,...</td>\n",
       "    </tr>\n",
       "  </tbody>\n",
       "</table>\n",
       "</div>"
      ],
      "text/plain": [
       "  ZIPCODE BLDGZIP   PO_NAME  POPULATION          AREA STATE  COUNTY ST_FIPS  \\\n",
       "0   11436       0   Jamaica     18681.0  2.269930e+07    NY  Queens      36   \n",
       "1   11213       0  Brooklyn     62426.0  2.963100e+07    NY   Kings      36   \n",
       "2   11212       0  Brooklyn     83866.0  4.197210e+07    NY   Kings      36   \n",
       "3   11225       0  Brooklyn     56527.0  2.369863e+07    NY   Kings      36   \n",
       "4   11218       0  Brooklyn     72280.0  3.686880e+07    NY   Kings      36   \n",
       "\n",
       "  CTY_FIPS                   URL  SHAPE_AREA  SHAPE_LEN  \\\n",
       "0      081  http://www.usps.com/         0.0        0.0   \n",
       "1      047  http://www.usps.com/         0.0        0.0   \n",
       "2      047  http://www.usps.com/         0.0        0.0   \n",
       "3      047  http://www.usps.com/         0.0        0.0   \n",
       "4      047  http://www.usps.com/         0.0        0.0   \n",
       "\n",
       "                                            geometry  \n",
       "0  POLYGON ((1038098.251871482 188138.3800067157,...  \n",
       "1  POLYGON ((1001613.712964058 186926.4395172149,...  \n",
       "2  POLYGON ((1011174.275535807 183696.33770971, 1...  \n",
       "3  POLYGON ((995908.3654508889 183617.6128015518,...  \n",
       "4  POLYGON ((991997.1134308875 176307.4958601296,...  "
      ]
     },
     "execution_count": 17,
     "metadata": {},
     "output_type": "execute_result"
    }
   ],
   "source": [
    "nyczipsshp.head()"
   ]
  },
  {
   "cell_type": "code",
   "execution_count": 18,
   "metadata": {},
   "outputs": [],
   "source": [
    "nyczipbk = nyczipsshp[nyczipsshp['COUNTY']=='Kings']"
   ]
  },
  {
   "cell_type": "code",
   "execution_count": 19,
   "metadata": {},
   "outputs": [
    {
     "data": {
      "text/html": [
       "<div>\n",
       "<style scoped>\n",
       "    .dataframe tbody tr th:only-of-type {\n",
       "        vertical-align: middle;\n",
       "    }\n",
       "\n",
       "    .dataframe tbody tr th {\n",
       "        vertical-align: top;\n",
       "    }\n",
       "\n",
       "    .dataframe thead th {\n",
       "        text-align: right;\n",
       "    }\n",
       "</style>\n",
       "<table border=\"1\" class=\"dataframe\">\n",
       "  <thead>\n",
       "    <tr style=\"text-align: right;\">\n",
       "      <th></th>\n",
       "      <th>ZIPCODE</th>\n",
       "      <th>BLDGZIP</th>\n",
       "      <th>PO_NAME</th>\n",
       "      <th>POPULATION</th>\n",
       "      <th>AREA</th>\n",
       "      <th>STATE</th>\n",
       "      <th>COUNTY</th>\n",
       "      <th>ST_FIPS</th>\n",
       "      <th>CTY_FIPS</th>\n",
       "      <th>URL</th>\n",
       "      <th>SHAPE_AREA</th>\n",
       "      <th>SHAPE_LEN</th>\n",
       "      <th>geometry</th>\n",
       "    </tr>\n",
       "  </thead>\n",
       "  <tbody>\n",
       "    <tr>\n",
       "      <th>1</th>\n",
       "      <td>11213</td>\n",
       "      <td>0</td>\n",
       "      <td>Brooklyn</td>\n",
       "      <td>62426.0</td>\n",
       "      <td>2.963100e+07</td>\n",
       "      <td>NY</td>\n",
       "      <td>Kings</td>\n",
       "      <td>36</td>\n",
       "      <td>047</td>\n",
       "      <td>http://www.usps.com/</td>\n",
       "      <td>0.0</td>\n",
       "      <td>0.0</td>\n",
       "      <td>POLYGON ((1001613.712964058 186926.4395172149,...</td>\n",
       "    </tr>\n",
       "    <tr>\n",
       "      <th>2</th>\n",
       "      <td>11212</td>\n",
       "      <td>0</td>\n",
       "      <td>Brooklyn</td>\n",
       "      <td>83866.0</td>\n",
       "      <td>4.197210e+07</td>\n",
       "      <td>NY</td>\n",
       "      <td>Kings</td>\n",
       "      <td>36</td>\n",
       "      <td>047</td>\n",
       "      <td>http://www.usps.com/</td>\n",
       "      <td>0.0</td>\n",
       "      <td>0.0</td>\n",
       "      <td>POLYGON ((1011174.275535807 183696.33770971, 1...</td>\n",
       "    </tr>\n",
       "    <tr>\n",
       "      <th>3</th>\n",
       "      <td>11225</td>\n",
       "      <td>0</td>\n",
       "      <td>Brooklyn</td>\n",
       "      <td>56527.0</td>\n",
       "      <td>2.369863e+07</td>\n",
       "      <td>NY</td>\n",
       "      <td>Kings</td>\n",
       "      <td>36</td>\n",
       "      <td>047</td>\n",
       "      <td>http://www.usps.com/</td>\n",
       "      <td>0.0</td>\n",
       "      <td>0.0</td>\n",
       "      <td>POLYGON ((995908.3654508889 183617.6128015518,...</td>\n",
       "    </tr>\n",
       "    <tr>\n",
       "      <th>4</th>\n",
       "      <td>11218</td>\n",
       "      <td>0</td>\n",
       "      <td>Brooklyn</td>\n",
       "      <td>72280.0</td>\n",
       "      <td>3.686880e+07</td>\n",
       "      <td>NY</td>\n",
       "      <td>Kings</td>\n",
       "      <td>36</td>\n",
       "      <td>047</td>\n",
       "      <td>http://www.usps.com/</td>\n",
       "      <td>0.0</td>\n",
       "      <td>0.0</td>\n",
       "      <td>POLYGON ((991997.1134308875 176307.4958601296,...</td>\n",
       "    </tr>\n",
       "    <tr>\n",
       "      <th>5</th>\n",
       "      <td>11226</td>\n",
       "      <td>0</td>\n",
       "      <td>Brooklyn</td>\n",
       "      <td>106132.0</td>\n",
       "      <td>3.940860e+07</td>\n",
       "      <td>NY</td>\n",
       "      <td>Kings</td>\n",
       "      <td>36</td>\n",
       "      <td>047</td>\n",
       "      <td>http://www.usps.com/</td>\n",
       "      <td>0.0</td>\n",
       "      <td>0.0</td>\n",
       "      <td>POLYGON ((994821.4729396403 177865.7178093046,...</td>\n",
       "    </tr>\n",
       "  </tbody>\n",
       "</table>\n",
       "</div>"
      ],
      "text/plain": [
       "  ZIPCODE BLDGZIP   PO_NAME  POPULATION          AREA STATE COUNTY ST_FIPS  \\\n",
       "1   11213       0  Brooklyn     62426.0  2.963100e+07    NY  Kings      36   \n",
       "2   11212       0  Brooklyn     83866.0  4.197210e+07    NY  Kings      36   \n",
       "3   11225       0  Brooklyn     56527.0  2.369863e+07    NY  Kings      36   \n",
       "4   11218       0  Brooklyn     72280.0  3.686880e+07    NY  Kings      36   \n",
       "5   11226       0  Brooklyn    106132.0  3.940860e+07    NY  Kings      36   \n",
       "\n",
       "  CTY_FIPS                   URL  SHAPE_AREA  SHAPE_LEN  \\\n",
       "1      047  http://www.usps.com/         0.0        0.0   \n",
       "2      047  http://www.usps.com/         0.0        0.0   \n",
       "3      047  http://www.usps.com/         0.0        0.0   \n",
       "4      047  http://www.usps.com/         0.0        0.0   \n",
       "5      047  http://www.usps.com/         0.0        0.0   \n",
       "\n",
       "                                            geometry  \n",
       "1  POLYGON ((1001613.712964058 186926.4395172149,...  \n",
       "2  POLYGON ((1011174.275535807 183696.33770971, 1...  \n",
       "3  POLYGON ((995908.3654508889 183617.6128015518,...  \n",
       "4  POLYGON ((991997.1134308875 176307.4958601296,...  \n",
       "5  POLYGON ((994821.4729396403 177865.7178093046,...  "
      ]
     },
     "execution_count": 19,
     "metadata": {},
     "output_type": "execute_result"
    }
   ],
   "source": [
    "nyczipbk.head()"
   ]
  },
  {
   "cell_type": "code",
   "execution_count": 20,
   "metadata": {},
   "outputs": [
    {
     "name": "stderr",
     "output_type": "stream",
     "text": [
      "/usr/local/Anaconda3-5.0.0-Linux-x86_64/envs/ADS/lib/python3.5/site-packages/pandas/core/frame.py:3781: SettingWithCopyWarning: \n",
      "A value is trying to be set on a copy of a slice from a DataFrame\n",
      "\n",
      "See the caveats in the documentation: http://pandas.pydata.org/pandas-docs/stable/indexing.html#indexing-view-versus-copy\n",
      "  return super(DataFrame, self).rename(**kwargs)\n"
     ]
    }
   ],
   "source": [
    "nyczipbk.rename(columns={'ZIPCODE' : 'zip'}, inplace=True)"
   ]
  },
  {
   "cell_type": "code",
   "execution_count": 21,
   "metadata": {},
   "outputs": [
    {
     "name": "stderr",
     "output_type": "stream",
     "text": [
      "/usr/local/Anaconda3-5.0.0-Linux-x86_64/envs/ADS/lib/python3.5/site-packages/ipykernel_launcher.py:1: SettingWithCopyWarning: \n",
      "A value is trying to be set on a copy of a slice from a DataFrame.\n",
      "Try using .loc[row_indexer,col_indexer] = value instead\n",
      "\n",
      "See the caveats in the documentation: http://pandas.pydata.org/pandas-docs/stable/indexing.html#indexing-view-versus-copy\n",
      "  \"\"\"Entry point for launching an IPython kernel.\n"
     ]
    }
   ],
   "source": [
    "nyczipbk['zip'] = nyczipbk.zip.astype(int)"
   ]
  },
  {
   "cell_type": "markdown",
   "metadata": {},
   "source": [
    "### Communty Gardens\n",
    "\n",
    "Finally, download data on community gardens throughout the city.  This was also pulled from NYC open database."
   ]
  },
  {
   "cell_type": "code",
   "execution_count": 22,
   "metadata": {},
   "outputs": [
    {
     "name": "stdout",
     "output_type": "stream",
     "text": [
      "  % Total    % Received % Xferd  Average Speed   Time    Time     Time  Current\n",
      "                                 Dload  Upload   Total   Spent    Left  Speed\n",
      "100  102k    0  102k    0     0   581k      0 --:--:-- --:--:-- --:--:--  583k\n"
     ]
    }
   ],
   "source": [
    "# Community Gardens\n",
    "\n",
    "! curl https://data.cityofnewyork.us/api/views/ajxm-kzmj/rows.csv?accessType=DOWNLOAD > parks.csv"
   ]
  },
  {
   "cell_type": "code",
   "execution_count": 23,
   "metadata": {},
   "outputs": [
    {
     "name": "stdout",
     "output_type": "stream",
     "text": [
      "mv: missing destination file operand after 'parks.csv'\r\n",
      "Try 'mv --help' for more information.\r\n"
     ]
    }
   ],
   "source": [
    "!mv parks.csv $PUIDATA"
   ]
  },
  {
   "cell_type": "code",
   "execution_count": 24,
   "metadata": {},
   "outputs": [],
   "source": [
    "parks = pd.read_csv('/nfshome/jl9489/PUIdata/parks.csv')"
   ]
  },
  {
   "cell_type": "code",
   "execution_count": 25,
   "metadata": {},
   "outputs": [
    {
     "data": {
      "text/html": [
       "<div>\n",
       "<style scoped>\n",
       "    .dataframe tbody tr th:only-of-type {\n",
       "        vertical-align: middle;\n",
       "    }\n",
       "\n",
       "    .dataframe tbody tr th {\n",
       "        vertical-align: top;\n",
       "    }\n",
       "\n",
       "    .dataframe thead th {\n",
       "        text-align: right;\n",
       "    }\n",
       "</style>\n",
       "<table border=\"1\" class=\"dataframe\">\n",
       "  <thead>\n",
       "    <tr style=\"text-align: right;\">\n",
       "      <th></th>\n",
       "      <th>PropID</th>\n",
       "      <th>Boro</th>\n",
       "      <th>Community Board</th>\n",
       "      <th>Council District</th>\n",
       "      <th>Garden Name</th>\n",
       "      <th>Address</th>\n",
       "      <th>Size</th>\n",
       "      <th>Jurisdiction</th>\n",
       "      <th>NeighborhoodName</th>\n",
       "      <th>Cross Streets</th>\n",
       "      <th>Latitude</th>\n",
       "      <th>Longitude</th>\n",
       "      <th>Postcode</th>\n",
       "      <th>Census Tract</th>\n",
       "      <th>BIN</th>\n",
       "      <th>BBL</th>\n",
       "      <th>NTA</th>\n",
       "    </tr>\n",
       "  </thead>\n",
       "  <tbody>\n",
       "    <tr>\n",
       "      <th>0</th>\n",
       "      <td>NaN</td>\n",
       "      <td>M</td>\n",
       "      <td>M03</td>\n",
       "      <td>2.0</td>\n",
       "      <td>11 BC Serenity Garden</td>\n",
       "      <td>626 East 11th Street</td>\n",
       "      <td>0.054</td>\n",
       "      <td>DPR</td>\n",
       "      <td>East Village</td>\n",
       "      <td>Avenues B &amp; C</td>\n",
       "      <td>40.727124</td>\n",
       "      <td>-73.978677</td>\n",
       "      <td>10009</td>\n",
       "      <td>28.0</td>\n",
       "      <td>1000000</td>\n",
       "      <td>1003930020</td>\n",
       "      <td>Lower East Side                               ...</td>\n",
       "    </tr>\n",
       "    <tr>\n",
       "      <th>1</th>\n",
       "      <td>NaN</td>\n",
       "      <td>B</td>\n",
       "      <td>B08</td>\n",
       "      <td>36.0</td>\n",
       "      <td>1100 Bergen Street Community Garden</td>\n",
       "      <td>1101 &amp; 1105 Bergen Street</td>\n",
       "      <td>0.207</td>\n",
       "      <td>PRI</td>\n",
       "      <td>Crown Heights</td>\n",
       "      <td>Nostrand &amp; New York Avenues</td>\n",
       "      <td>NaN</td>\n",
       "      <td>NaN</td>\n",
       "      <td>NaN</td>\n",
       "      <td>NaN</td>\n",
       "      <td>NaN</td>\n",
       "      <td>NaN</td>\n",
       "      <td>NaN</td>\n",
       "    </tr>\n",
       "    <tr>\n",
       "      <th>2</th>\n",
       "      <td>M382</td>\n",
       "      <td>M</td>\n",
       "      <td>M11</td>\n",
       "      <td>9.0</td>\n",
       "      <td>110th Street Block Association</td>\n",
       "      <td>1651 Madison Avenue</td>\n",
       "      <td>0.043</td>\n",
       "      <td>DPR</td>\n",
       "      <td>East Harlem</td>\n",
       "      <td>Active</td>\n",
       "      <td>40.796295</td>\n",
       "      <td>-73.947533</td>\n",
       "      <td>10029</td>\n",
       "      <td>17402.0</td>\n",
       "      <td>1000000</td>\n",
       "      <td>1016160023</td>\n",
       "      <td>East Harlem South                             ...</td>\n",
       "    </tr>\n",
       "    <tr>\n",
       "      <th>3</th>\n",
       "      <td>M331</td>\n",
       "      <td>M</td>\n",
       "      <td>M11</td>\n",
       "      <td>8.0</td>\n",
       "      <td>117th Street Community Garden</td>\n",
       "      <td>172 E 117th Street</td>\n",
       "      <td>0.080</td>\n",
       "      <td>DPR</td>\n",
       "      <td>East Harlem</td>\n",
       "      <td>Active</td>\n",
       "      <td>40.798976</td>\n",
       "      <td>-73.940376</td>\n",
       "      <td>10035</td>\n",
       "      <td>182.0</td>\n",
       "      <td>1089914</td>\n",
       "      <td>1016440046</td>\n",
       "      <td>East Harlem North                             ...</td>\n",
       "    </tr>\n",
       "    <tr>\n",
       "      <th>4</th>\n",
       "      <td>NaN</td>\n",
       "      <td>M</td>\n",
       "      <td>M03</td>\n",
       "      <td>2.0</td>\n",
       "      <td>11th Street Community Garden</td>\n",
       "      <td>422 East 11th Street</td>\n",
       "      <td>0.054</td>\n",
       "      <td>TPL</td>\n",
       "      <td>East Village</td>\n",
       "      <td>1st Avenue &amp; Avenue A</td>\n",
       "      <td>40.729079</td>\n",
       "      <td>-73.983327</td>\n",
       "      <td>10009</td>\n",
       "      <td>34.0</td>\n",
       "      <td>1000000</td>\n",
       "      <td>1004380019</td>\n",
       "      <td>East Village                                  ...</td>\n",
       "    </tr>\n",
       "  </tbody>\n",
       "</table>\n",
       "</div>"
      ],
      "text/plain": [
       "  PropID Boro Community Board  Council District  \\\n",
       "0    NaN    M             M03               2.0   \n",
       "1    NaN    B             B08              36.0   \n",
       "2   M382    M             M11               9.0   \n",
       "3   M331    M             M11               8.0   \n",
       "4    NaN    M             M03               2.0   \n",
       "\n",
       "                           Garden Name                    Address   Size  \\\n",
       "0                11 BC Serenity Garden       626 East 11th Street  0.054   \n",
       "1  1100 Bergen Street Community Garden  1101 & 1105 Bergen Street  0.207   \n",
       "2       110th Street Block Association        1651 Madison Avenue  0.043   \n",
       "3        117th Street Community Garden         172 E 117th Street  0.080   \n",
       "4         11th Street Community Garden       422 East 11th Street  0.054   \n",
       "\n",
       "  Jurisdiction NeighborhoodName                Cross Streets   Latitude  \\\n",
       "0          DPR     East Village                Avenues B & C  40.727124   \n",
       "1          PRI    Crown Heights  Nostrand & New York Avenues        NaN   \n",
       "2          DPR      East Harlem                       Active  40.796295   \n",
       "3          DPR      East Harlem                       Active  40.798976   \n",
       "4          TPL     East Village        1st Avenue & Avenue A  40.729079   \n",
       "\n",
       "   Longitude Postcode  Census Tract      BIN         BBL  \\\n",
       "0 -73.978677    10009          28.0  1000000  1003930020   \n",
       "1        NaN      NaN           NaN      NaN         NaN   \n",
       "2 -73.947533    10029       17402.0  1000000  1016160023   \n",
       "3 -73.940376    10035         182.0  1089914  1016440046   \n",
       "4 -73.983327    10009          34.0  1000000  1004380019   \n",
       "\n",
       "                                                 NTA  \n",
       "0  Lower East Side                               ...  \n",
       "1                                                NaN  \n",
       "2  East Harlem South                             ...  \n",
       "3  East Harlem North                             ...  \n",
       "4  East Village                                  ...  "
      ]
     },
     "execution_count": 25,
     "metadata": {},
     "output_type": "execute_result"
    }
   ],
   "source": [
    "parks.head()"
   ]
  },
  {
   "cell_type": "code",
   "execution_count": 26,
   "metadata": {},
   "outputs": [],
   "source": [
    "# Filter for parks in Brooklyn\n",
    "\n",
    "parksb = parks[parks['Boro']=='B']"
   ]
  },
  {
   "cell_type": "code",
   "execution_count": 27,
   "metadata": {},
   "outputs": [
    {
     "data": {
      "text/html": [
       "<div>\n",
       "<style scoped>\n",
       "    .dataframe tbody tr th:only-of-type {\n",
       "        vertical-align: middle;\n",
       "    }\n",
       "\n",
       "    .dataframe tbody tr th {\n",
       "        vertical-align: top;\n",
       "    }\n",
       "\n",
       "    .dataframe thead th {\n",
       "        text-align: right;\n",
       "    }\n",
       "</style>\n",
       "<table border=\"1\" class=\"dataframe\">\n",
       "  <thead>\n",
       "    <tr style=\"text-align: right;\">\n",
       "      <th></th>\n",
       "      <th>PropID</th>\n",
       "      <th>Boro</th>\n",
       "      <th>Community Board</th>\n",
       "      <th>Council District</th>\n",
       "      <th>Garden Name</th>\n",
       "      <th>Address</th>\n",
       "      <th>Size</th>\n",
       "      <th>Jurisdiction</th>\n",
       "      <th>NeighborhoodName</th>\n",
       "      <th>Cross Streets</th>\n",
       "      <th>Latitude</th>\n",
       "      <th>Longitude</th>\n",
       "      <th>Postcode</th>\n",
       "      <th>Census Tract</th>\n",
       "      <th>BIN</th>\n",
       "      <th>BBL</th>\n",
       "      <th>NTA</th>\n",
       "    </tr>\n",
       "  </thead>\n",
       "  <tbody>\n",
       "    <tr>\n",
       "      <th>1</th>\n",
       "      <td>NaN</td>\n",
       "      <td>B</td>\n",
       "      <td>B08</td>\n",
       "      <td>36.0</td>\n",
       "      <td>1100 Bergen Street Community Garden</td>\n",
       "      <td>1101 &amp; 1105 Bergen Street</td>\n",
       "      <td>0.207</td>\n",
       "      <td>PRI</td>\n",
       "      <td>Crown Heights</td>\n",
       "      <td>Nostrand &amp; New York Avenues</td>\n",
       "      <td>NaN</td>\n",
       "      <td>NaN</td>\n",
       "      <td>NaN</td>\n",
       "      <td>NaN</td>\n",
       "      <td>NaN</td>\n",
       "      <td>NaN</td>\n",
       "      <td>NaN</td>\n",
       "    </tr>\n",
       "    <tr>\n",
       "      <th>7</th>\n",
       "      <td>B535</td>\n",
       "      <td>B</td>\n",
       "      <td>B05</td>\n",
       "      <td>42.0</td>\n",
       "      <td>400 Montauk Avenue Block Association. (Ismael ...</td>\n",
       "      <td>New Lots Avenue</td>\n",
       "      <td>0.091</td>\n",
       "      <td>DPR</td>\n",
       "      <td>East New York</td>\n",
       "      <td>Active</td>\n",
       "      <td>NaN</td>\n",
       "      <td>NaN</td>\n",
       "      <td>NaN</td>\n",
       "      <td>NaN</td>\n",
       "      <td>NaN</td>\n",
       "      <td>NaN</td>\n",
       "      <td>NaN</td>\n",
       "    </tr>\n",
       "    <tr>\n",
       "      <th>9</th>\n",
       "      <td>NaN</td>\n",
       "      <td>B</td>\n",
       "      <td>B07</td>\n",
       "      <td>38.0</td>\n",
       "      <td>6/15 Green</td>\n",
       "      <td>274 15th Street</td>\n",
       "      <td>0.287</td>\n",
       "      <td>TPL</td>\n",
       "      <td>Park Slope</td>\n",
       "      <td>corner of 6th Avenue &amp; 15th Street</td>\n",
       "      <td>40.664706</td>\n",
       "      <td>-73.987554</td>\n",
       "      <td>11215</td>\n",
       "      <td>141.0</td>\n",
       "      <td>3000000</td>\n",
       "      <td>3010480034</td>\n",
       "      <td>Park Slope-Gowanus                            ...</td>\n",
       "    </tr>\n",
       "    <tr>\n",
       "      <th>10</th>\n",
       "      <td>NaN</td>\n",
       "      <td>B</td>\n",
       "      <td>B07</td>\n",
       "      <td>0.0</td>\n",
       "      <td>64th Street Community Garden</td>\n",
       "      <td>64th Street</td>\n",
       "      <td>NaN</td>\n",
       "      <td>DOT</td>\n",
       "      <td>Sunset Park</td>\n",
       "      <td>West of 4th Avenue</td>\n",
       "      <td>NaN</td>\n",
       "      <td>NaN</td>\n",
       "      <td>NaN</td>\n",
       "      <td>NaN</td>\n",
       "      <td>NaN</td>\n",
       "      <td>NaN</td>\n",
       "      <td>NaN</td>\n",
       "    </tr>\n",
       "    <tr>\n",
       "      <th>13</th>\n",
       "      <td>B438</td>\n",
       "      <td>B</td>\n",
       "      <td>B16</td>\n",
       "      <td>41.0</td>\n",
       "      <td>700 Decatur Street Block Association</td>\n",
       "      <td>700 Decatur Street</td>\n",
       "      <td>0.114</td>\n",
       "      <td>DPR</td>\n",
       "      <td>Bed-Stuy</td>\n",
       "      <td>Active</td>\n",
       "      <td>40.683541</td>\n",
       "      <td>-73.915121</td>\n",
       "      <td>11233</td>\n",
       "      <td>373.0</td>\n",
       "      <td>3040656</td>\n",
       "      <td>3015060032</td>\n",
       "      <td>Ocean Hill                                    ...</td>\n",
       "    </tr>\n",
       "  </tbody>\n",
       "</table>\n",
       "</div>"
      ],
      "text/plain": [
       "   PropID Boro Community Board  Council District  \\\n",
       "1     NaN    B             B08              36.0   \n",
       "7    B535    B             B05              42.0   \n",
       "9     NaN    B             B07              38.0   \n",
       "10    NaN    B             B07               0.0   \n",
       "13   B438    B             B16              41.0   \n",
       "\n",
       "                                          Garden Name  \\\n",
       "1                 1100 Bergen Street Community Garden   \n",
       "7   400 Montauk Avenue Block Association. (Ismael ...   \n",
       "9                                          6/15 Green   \n",
       "10                       64th Street Community Garden   \n",
       "13               700 Decatur Street Block Association   \n",
       "\n",
       "                      Address   Size Jurisdiction NeighborhoodName  \\\n",
       "1   1101 & 1105 Bergen Street  0.207          PRI    Crown Heights   \n",
       "7             New Lots Avenue  0.091          DPR    East New York   \n",
       "9             274 15th Street  0.287          TPL       Park Slope   \n",
       "10                64th Street    NaN          DOT      Sunset Park   \n",
       "13         700 Decatur Street  0.114          DPR         Bed-Stuy   \n",
       "\n",
       "                         Cross Streets   Latitude  Longitude Postcode  \\\n",
       "1          Nostrand & New York Avenues        NaN        NaN      NaN   \n",
       "7                               Active        NaN        NaN      NaN   \n",
       "9   corner of 6th Avenue & 15th Street  40.664706 -73.987554    11215   \n",
       "10                  West of 4th Avenue        NaN        NaN      NaN   \n",
       "13                              Active  40.683541 -73.915121    11233   \n",
       "\n",
       "    Census Tract      BIN         BBL  \\\n",
       "1            NaN      NaN         NaN   \n",
       "7            NaN      NaN         NaN   \n",
       "9          141.0  3000000  3010480034   \n",
       "10           NaN      NaN         NaN   \n",
       "13         373.0  3040656  3015060032   \n",
       "\n",
       "                                                  NTA  \n",
       "1                                                 NaN  \n",
       "7                                                 NaN  \n",
       "9   Park Slope-Gowanus                            ...  \n",
       "10                                                NaN  \n",
       "13  Ocean Hill                                    ...  "
      ]
     },
     "execution_count": 27,
     "metadata": {},
     "output_type": "execute_result"
    }
   ],
   "source": [
    "parksb.head()"
   ]
  },
  {
   "cell_type": "code",
   "execution_count": 28,
   "metadata": {},
   "outputs": [
    {
     "data": {
      "text/plain": [
       "(226, 17)"
      ]
     },
     "execution_count": 28,
     "metadata": {},
     "output_type": "execute_result"
    }
   ],
   "source": [
    "parksb.shape"
   ]
  },
  {
   "cell_type": "code",
   "execution_count": 29,
   "metadata": {},
   "outputs": [
    {
     "name": "stderr",
     "output_type": "stream",
     "text": [
      "/usr/local/Anaconda3-5.0.0-Linux-x86_64/envs/ADS/lib/python3.5/site-packages/ipykernel_launcher.py:1: SettingWithCopyWarning: \n",
      "A value is trying to be set on a copy of a slice from a DataFrame\n",
      "\n",
      "See the caveats in the documentation: http://pandas.pydata.org/pandas-docs/stable/indexing.html#indexing-view-versus-copy\n",
      "  \"\"\"Entry point for launching an IPython kernel.\n"
     ]
    }
   ],
   "source": [
    "parksb.dropna(subset=['Latitude','Longitude'], inplace=True)"
   ]
  },
  {
   "cell_type": "code",
   "execution_count": 30,
   "metadata": {},
   "outputs": [
    {
     "name": "stderr",
     "output_type": "stream",
     "text": [
      "/usr/local/Anaconda3-5.0.0-Linux-x86_64/envs/ADS/lib/python3.5/site-packages/pandas/core/frame.py:3781: SettingWithCopyWarning: \n",
      "A value is trying to be set on a copy of a slice from a DataFrame\n",
      "\n",
      "See the caveats in the documentation: http://pandas.pydata.org/pandas-docs/stable/indexing.html#indexing-view-versus-copy\n",
      "  return super(DataFrame, self).rename(**kwargs)\n",
      "/usr/local/Anaconda3-5.0.0-Linux-x86_64/envs/ADS/lib/python3.5/site-packages/ipykernel_launcher.py:2: SettingWithCopyWarning: \n",
      "A value is trying to be set on a copy of a slice from a DataFrame.\n",
      "Try using .loc[row_indexer,col_indexer] = value instead\n",
      "\n",
      "See the caveats in the documentation: http://pandas.pydata.org/pandas-docs/stable/indexing.html#indexing-view-versus-copy\n",
      "  \n"
     ]
    },
    {
     "data": {
      "text/plain": [
       "(189, 17)"
      ]
     },
     "execution_count": 30,
     "metadata": {},
     "output_type": "execute_result"
    }
   ],
   "source": [
    "parksb.rename(columns={'Postcode' : 'zip'}, inplace=True)\n",
    "parksb['zip'] = parksb.zip.astype(int)\n",
    "parksb.shape"
   ]
  },
  {
   "cell_type": "markdown",
   "metadata": {},
   "source": [
    "## Mapping Data"
   ]
  },
  {
   "cell_type": "code",
   "execution_count": 31,
   "metadata": {},
   "outputs": [
    {
     "data": {
      "text/html": [
       "<div>\n",
       "<style scoped>\n",
       "    .dataframe tbody tr th:only-of-type {\n",
       "        vertical-align: middle;\n",
       "    }\n",
       "\n",
       "    .dataframe tbody tr th {\n",
       "        vertical-align: top;\n",
       "    }\n",
       "\n",
       "    .dataframe thead th {\n",
       "        text-align: right;\n",
       "    }\n",
       "</style>\n",
       "<table border=\"1\" class=\"dataframe\">\n",
       "  <thead>\n",
       "    <tr style=\"text-align: right;\">\n",
       "      <th></th>\n",
       "      <th>zip</th>\n",
       "      <th>counts</th>\n",
       "    </tr>\n",
       "  </thead>\n",
       "  <tbody>\n",
       "    <tr>\n",
       "      <th>0</th>\n",
       "      <td>11201</td>\n",
       "      <td>9015</td>\n",
       "    </tr>\n",
       "    <tr>\n",
       "      <th>1</th>\n",
       "      <td>11203</td>\n",
       "      <td>14603</td>\n",
       "    </tr>\n",
       "    <tr>\n",
       "      <th>2</th>\n",
       "      <td>11204</td>\n",
       "      <td>6441</td>\n",
       "    </tr>\n",
       "    <tr>\n",
       "      <th>3</th>\n",
       "      <td>11205</td>\n",
       "      <td>14864</td>\n",
       "    </tr>\n",
       "    <tr>\n",
       "      <th>4</th>\n",
       "      <td>11206</td>\n",
       "      <td>21859</td>\n",
       "    </tr>\n",
       "  </tbody>\n",
       "</table>\n",
       "</div>"
      ],
      "text/plain": [
       "     zip  counts\n",
       "0  11201    9015\n",
       "1  11203   14603\n",
       "2  11204    6441\n",
       "3  11205   14864\n",
       "4  11206   21859"
      ]
     },
     "execution_count": 31,
     "metadata": {},
     "output_type": "execute_result"
    }
   ],
   "source": [
    "# Gives a count of the number of 311 calls per zip code\n",
    "\n",
    "brooklyn_count = brooklyncall2.groupby(['zip']).size().reset_index(name='counts')\n",
    "\n",
    "brooklyn_count.head()"
   ]
  },
  {
   "cell_type": "code",
   "execution_count": 32,
   "metadata": {},
   "outputs": [
    {
     "data": {
      "text/plain": [
       "(43, 14)"
      ]
     },
     "execution_count": 32,
     "metadata": {},
     "output_type": "execute_result"
    }
   ],
   "source": [
    "merge311 = pd.merge(nyczipbk, brooklyn_count, on='zip', how='right')\n",
    "\n",
    "merge311.shape"
   ]
  },
  {
   "cell_type": "code",
   "execution_count": 54,
   "metadata": {},
   "outputs": [
    {
     "data": {
      "image/png": "[encoded data removed]",
      "text/plain": [
       "<matplotlib.figure.Figure at 0x7f11c2d775c0>"
      ]
     },
     "metadata": {
      "needs_background": "light"
     },
     "output_type": "display_data"
    }
   ],
   "source": [
    "fig,ax = plt.subplots(1, 1, figsize=(14,10))\n",
    "merge311.plot(column='counts', cmap='viridis', \n",
    "                edgecolor='black', categorical = True, ax=ax)\n",
    "plt.title('311 Call Frequency in Brooklyn', fontsize=16)\n",
    "#ax.axis('off')\n",
    "plt.axis('equal')\n",
    "\n",
    "plt.savefig('311 Calls in Brooklyn (by zip code)')"
   ]
  },
  {
   "cell_type": "markdown",
   "metadata": {},
   "source": [
    "### Figure 1:\n",
    "The above map shows the amount of 311 calls per zip code in Brooklyn, NY.  The lighter shade (bright yellow) refers to a higher number of calls. The zip codes with the highest count are 11226 and 11221, which are in the Flatbush-Ditmars Park, and Bushwick neighborhoods, respectively."
   ]
  },
  {
   "cell_type": "code",
   "execution_count": 34,
   "metadata": {},
   "outputs": [
    {
     "data": {
      "text/html": [
       "<div>\n",
       "<style scoped>\n",
       "    .dataframe tbody tr th:only-of-type {\n",
       "        vertical-align: middle;\n",
       "    }\n",
       "\n",
       "    .dataframe tbody tr th {\n",
       "        vertical-align: top;\n",
       "    }\n",
       "\n",
       "    .dataframe thead th {\n",
       "        text-align: right;\n",
       "    }\n",
       "</style>\n",
       "<table border=\"1\" class=\"dataframe\">\n",
       "  <thead>\n",
       "    <tr style=\"text-align: right;\">\n",
       "      <th></th>\n",
       "      <th>zip</th>\n",
       "      <th>counts</th>\n",
       "    </tr>\n",
       "  </thead>\n",
       "  <tbody>\n",
       "    <tr>\n",
       "      <th>0</th>\n",
       "      <td>11201</td>\n",
       "      <td>2</td>\n",
       "    </tr>\n",
       "    <tr>\n",
       "      <th>1</th>\n",
       "      <td>11203</td>\n",
       "      <td>5</td>\n",
       "    </tr>\n",
       "    <tr>\n",
       "      <th>2</th>\n",
       "      <td>11204</td>\n",
       "      <td>3</td>\n",
       "    </tr>\n",
       "    <tr>\n",
       "      <th>3</th>\n",
       "      <td>11205</td>\n",
       "      <td>4</td>\n",
       "    </tr>\n",
       "    <tr>\n",
       "      <th>4</th>\n",
       "      <td>11206</td>\n",
       "      <td>15</td>\n",
       "    </tr>\n",
       "  </tbody>\n",
       "</table>\n",
       "</div>"
      ],
      "text/plain": [
       "     zip  counts\n",
       "0  11201       2\n",
       "1  11203       5\n",
       "2  11204       3\n",
       "3  11205       4\n",
       "4  11206      15"
      ]
     },
     "execution_count": 34,
     "metadata": {},
     "output_type": "execute_result"
    }
   ],
   "source": [
    "garden_count = parksb.groupby(['zip']).size().reset_index(name='counts')\n",
    "\n",
    "garden_count.head()"
   ]
  },
  {
   "cell_type": "code",
   "execution_count": 35,
   "metadata": {},
   "outputs": [
    {
     "data": {
      "text/plain": [
       "(27, 14)"
      ]
     },
     "execution_count": 35,
     "metadata": {},
     "output_type": "execute_result"
    }
   ],
   "source": [
    "merge_garden = pd.merge(nyczipbk, garden_count, on='zip', how='right')\n",
    "\n",
    "merge_garden.shape"
   ]
  },
  {
   "cell_type": "code",
   "execution_count": 52,
   "metadata": {},
   "outputs": [
    {
     "data": {
      "image/png": "[encoded data removed]",
      "text/plain": [
       "<matplotlib.figure.Figure at 0x7f11c2edc9b0>"
      ]
     },
     "metadata": {
      "needs_background": "light"
     },
     "output_type": "display_data"
    }
   ],
   "source": [
    "fig,ax = plt.subplots(1, 1, figsize=(14,10))\n",
    "base = nyczipbk.plot(color='white', edgecolor='black', ax=ax)\n",
    "merge_garden.plot(column='counts', cmap='viridis', \n",
    "                edgecolor='black', categorical = True, legend=True, ax=ax)\n",
    "plt.title('Community Gardens in Brooklyn', fontsize=16)\n",
    "#ax.axis('off')\n",
    "plt.axis('equal')\n",
    "\n",
    "plt.savefig('Community Garden Count in Brooklyn (by zip code)')"
   ]
  },
  {
   "cell_type": "markdown",
   "metadata": {},
   "source": [
    "### Figure 2:\n",
    "The above map shows the number of community gardens in Brooklyn, by zip code.  The zip codes without registered gardens were added, to complete the shape of the borough.  The brighter color represents the higher count of gardens.  Zip codes 11207 and 11233, which represent East New York and Stuyvesant Heights, respectively."
   ]
  },
  {
   "cell_type": "markdown",
   "metadata": {},
   "source": [
    "## Null Hypothesis Testing\n",
    "\n",
    "After plotting both 311 calls and community gardens, we have come across two distinct groups: \n",
    "1) zip codes with gardens\n",
    "2) zip codes without gardens\n",
    "\n",
    "Next, we implement a null hypothesis significance test to verify whether there is a statistically significant difference between the two classes.\n",
    "\n",
    "This is a two-sample t-test. We are assuming normality, due to the size of the dataset.  This may be an incorrect assumption, which we can test later.\n",
    "\n",
    "**Null Hypothesis Test Parameters**\n",
    "\n",
    "$\\alpha$ = 0.05\n",
    "\n",
    "$H_0: P_0 = P_1$\n",
    "\n",
    "$H_a: P_0 <> P_1$\n",
    "\n",
    "where $P_0$ refers to zip codes with gardens, and $P_1$ refers to zip codes without gardens"
   ]
  },
  {
   "cell_type": "code",
   "execution_count": 37,
   "metadata": {},
   "outputs": [],
   "source": [
    "# More data wrangling\n",
    "\n",
    "brooklyntest = pd.merge(brooklyn_count, garden_count, on='zip', how='left')"
   ]
  },
  {
   "cell_type": "code",
   "execution_count": 38,
   "metadata": {},
   "outputs": [],
   "source": [
    "brooklyntest.rename(columns={'counts_x':'311 count', 'counts_y':'garden count'}, inplace=True)"
   ]
  },
  {
   "cell_type": "code",
   "execution_count": 39,
   "metadata": {},
   "outputs": [
    {
     "data": {
      "text/html": [
       "<div>\n",
       "<style scoped>\n",
       "    .dataframe tbody tr th:only-of-type {\n",
       "        vertical-align: middle;\n",
       "    }\n",
       "\n",
       "    .dataframe tbody tr th {\n",
       "        vertical-align: top;\n",
       "    }\n",
       "\n",
       "    .dataframe thead th {\n",
       "        text-align: right;\n",
       "    }\n",
       "</style>\n",
       "<table border=\"1\" class=\"dataframe\">\n",
       "  <thead>\n",
       "    <tr style=\"text-align: right;\">\n",
       "      <th></th>\n",
       "      <th>zip</th>\n",
       "      <th>311 count</th>\n",
       "      <th>garden count</th>\n",
       "    </tr>\n",
       "  </thead>\n",
       "  <tbody>\n",
       "    <tr>\n",
       "      <th>0</th>\n",
       "      <td>11201</td>\n",
       "      <td>9015</td>\n",
       "      <td>2.0</td>\n",
       "    </tr>\n",
       "    <tr>\n",
       "      <th>1</th>\n",
       "      <td>11203</td>\n",
       "      <td>14603</td>\n",
       "      <td>5.0</td>\n",
       "    </tr>\n",
       "    <tr>\n",
       "      <th>2</th>\n",
       "      <td>11204</td>\n",
       "      <td>6441</td>\n",
       "      <td>3.0</td>\n",
       "    </tr>\n",
       "    <tr>\n",
       "      <th>3</th>\n",
       "      <td>11205</td>\n",
       "      <td>14864</td>\n",
       "      <td>4.0</td>\n",
       "    </tr>\n",
       "    <tr>\n",
       "      <th>4</th>\n",
       "      <td>11206</td>\n",
       "      <td>21859</td>\n",
       "      <td>15.0</td>\n",
       "    </tr>\n",
       "  </tbody>\n",
       "</table>\n",
       "</div>"
      ],
      "text/plain": [
       "     zip  311 count  garden count\n",
       "0  11201       9015           2.0\n",
       "1  11203      14603           5.0\n",
       "2  11204       6441           3.0\n",
       "3  11205      14864           4.0\n",
       "4  11206      21859          15.0"
      ]
     },
     "execution_count": 39,
     "metadata": {},
     "output_type": "execute_result"
    }
   ],
   "source": [
    "brooklyntest.head()"
   ]
  },
  {
   "cell_type": "code",
   "execution_count": 40,
   "metadata": {},
   "outputs": [],
   "source": [
    "brooklyntest0 = brooklyntest.dropna()"
   ]
  },
  {
   "cell_type": "code",
   "execution_count": 41,
   "metadata": {},
   "outputs": [
    {
     "data": {
      "text/html": [
       "<div>\n",
       "<style scoped>\n",
       "    .dataframe tbody tr th:only-of-type {\n",
       "        vertical-align: middle;\n",
       "    }\n",
       "\n",
       "    .dataframe tbody tr th {\n",
       "        vertical-align: top;\n",
       "    }\n",
       "\n",
       "    .dataframe thead th {\n",
       "        text-align: right;\n",
       "    }\n",
       "</style>\n",
       "<table border=\"1\" class=\"dataframe\">\n",
       "  <thead>\n",
       "    <tr style=\"text-align: right;\">\n",
       "      <th></th>\n",
       "      <th>zip</th>\n",
       "      <th>311 count</th>\n",
       "      <th>garden count</th>\n",
       "    </tr>\n",
       "  </thead>\n",
       "  <tbody>\n",
       "    <tr>\n",
       "      <th>0</th>\n",
       "      <td>11201</td>\n",
       "      <td>9015</td>\n",
       "      <td>2.0</td>\n",
       "    </tr>\n",
       "    <tr>\n",
       "      <th>1</th>\n",
       "      <td>11203</td>\n",
       "      <td>14603</td>\n",
       "      <td>5.0</td>\n",
       "    </tr>\n",
       "    <tr>\n",
       "      <th>2</th>\n",
       "      <td>11204</td>\n",
       "      <td>6441</td>\n",
       "      <td>3.0</td>\n",
       "    </tr>\n",
       "    <tr>\n",
       "      <th>3</th>\n",
       "      <td>11205</td>\n",
       "      <td>14864</td>\n",
       "      <td>4.0</td>\n",
       "    </tr>\n",
       "    <tr>\n",
       "      <th>4</th>\n",
       "      <td>11206</td>\n",
       "      <td>21859</td>\n",
       "      <td>15.0</td>\n",
       "    </tr>\n",
       "  </tbody>\n",
       "</table>\n",
       "</div>"
      ],
      "text/plain": [
       "     zip  311 count  garden count\n",
       "0  11201       9015           2.0\n",
       "1  11203      14603           5.0\n",
       "2  11204       6441           3.0\n",
       "3  11205      14864           4.0\n",
       "4  11206      21859          15.0"
      ]
     },
     "execution_count": 41,
     "metadata": {},
     "output_type": "execute_result"
    }
   ],
   "source": [
    "brooklyntest0.head()"
   ]
  },
  {
   "cell_type": "code",
   "execution_count": 42,
   "metadata": {},
   "outputs": [],
   "source": [
    "brooklyntest1 = brooklyntest[pd.isna(brooklyntest['garden count'])]"
   ]
  },
  {
   "cell_type": "code",
   "execution_count": 43,
   "metadata": {},
   "outputs": [],
   "source": [
    "brooklyntest1 = brooklyntest1.drop(columns='garden count')"
   ]
  },
  {
   "cell_type": "code",
   "execution_count": 44,
   "metadata": {},
   "outputs": [
    {
     "name": "stdout",
     "output_type": "stream",
     "text": [
      "(26, 3)\n",
      "(16, 2)\n"
     ]
    }
   ],
   "source": [
    "print(brooklyntest0.shape)\n",
    "print(brooklyntest1.shape)"
   ]
  },
  {
   "cell_type": "code",
   "execution_count": 45,
   "metadata": {},
   "outputs": [
    {
     "name": "stdout",
     "output_type": "stream",
     "text": [
      "The mean amount of 311 calls for zip codes with gardens is:  14683.653846153846\n",
      "The standard deviation is:  7620.48949578599\n"
     ]
    }
   ],
   "source": [
    "# Find the mean and stdev for P0\n",
    "\n",
    "print(\"The mean amount of 311 calls for zip codes with gardens is: \", brooklyntest0['311 count'].mean())\n",
    "print(\"The standard deviation is: \", brooklyntest0['311 count'].std())"
   ]
  },
  {
   "cell_type": "code",
   "execution_count": 46,
   "metadata": {},
   "outputs": [
    {
     "name": "stdout",
     "output_type": "stream",
     "text": [
      "The mean amount of 311 calls for zip codes without gardens is:  5561.6875\n",
      "The standard deviation is:  4440.470301199337\n"
     ]
    }
   ],
   "source": [
    "# Find the mean and stdev for P1\n",
    "\n",
    "print(\"The mean amount of 311 calls for zip codes without gardens is: \", brooklyntest1['311 count'].mean())\n",
    "print(\"The standard deviation is: \", brooklyntest1['311 count'].std())"
   ]
  },
  {
   "cell_type": "code",
   "execution_count": 47,
   "metadata": {},
   "outputs": [
    {
     "name": "stdout",
     "output_type": "stream",
     "text": [
      "Below is the two sample t-test statistics and p-value, comparing zip codes with gardens to those without:\n"
     ]
    },
    {
     "data": {
      "text/plain": [
       "Ttest_indResult(statistic=4.3433421450057619, pvalue=9.3249913475361204e-05)"
      ]
     },
     "execution_count": 47,
     "metadata": {},
     "output_type": "execute_result"
    }
   ],
   "source": [
    "# Two sample t-test calculation\n",
    "\n",
    "print('Below is the two sample t-test statistics and p-value, comparing zip codes with gardens to those without:')\n",
    "scipy.stats.ttest_ind(brooklyntest0['311 count'],brooklyntest1['311 count'])"
   ]
  },
  {
   "cell_type": "markdown",
   "metadata": {},
   "source": [
    "The calculated p-value is several orders of magnitude lower than the 0.05 threshold established earlier.  With this result we can reject the null hypothesis.  According to our calculation, there is a statistically significant difference in the number of 311 calls between zip codes with community gardens and zip codes without gardens."
   ]
  },
  {
   "cell_type": "markdown",
   "metadata": {},
   "source": [
    "## Correlation Coefficient\n",
    "\n",
    "Our last bit of analysis will be to test for correlation between community garden counts and 311 call counts. A high correlation coefficient (i.e. r > 0.7) will allow to state confidently that there is a strong correlation between the two variables.\n",
    "\n",
    "For this analysis, I will take the independent variable to be the number of community gardens.  There is no theoretical basis to assume that community gardens are built based on the number of noise complaints in a neighborhood. However, perhaps the opposite is true.\n",
    "\n",
    "For this test, I will only look at those zip codes that have a community garden, as adding those without may skew the data in some way."
   ]
  },
  {
   "cell_type": "code",
   "execution_count": 48,
   "metadata": {},
   "outputs": [],
   "source": [
    "#scipy.stats.pearsonr?"
   ]
  },
  {
   "cell_type": "code",
   "execution_count": 49,
   "metadata": {},
   "outputs": [
    {
     "data": {
      "text/plain": [
       "(0.40368136151041767, 0.04084379802381348)"
      ]
     },
     "execution_count": 49,
     "metadata": {},
     "output_type": "execute_result"
    }
   ],
   "source": [
    "# Only use brooklyntest0, which holds data only for zip codes with gardens\n",
    "\n",
    "scipy.stats.pearsonr(brooklyntest0['garden count'], brooklyntest0['311 count'])"
   ]
  },
  {
   "cell_type": "markdown",
   "metadata": {},
   "source": [
    "The calculation above has given a rather weak correlation of approximately 0.4, with a p-value of 0.04, which is less than our threshold of 0.05 (though not by much).  It may be said that there is a moderate correlation between the two variables."
   ]
  },
  {
   "cell_type": "code",
   "execution_count": null,
   "metadata": {},
   "outputs": [],
   "source": []
  }
 ],
 "metadata": {
  "kernelspec": {
   "display_name": "ADS",
   "language": "python",
   "name": "ads"
  },
  "language_info": {
   "codemirror_mode": {
    "name": "ipython",
    "version": 3
   },
   "file_extension": ".py",
   "mimetype": "text/x-python",
   "name": "python",
   "nbconvert_exporter": "python",
   "pygments_lexer": "ipython3",
   "version": "3.5.0"
  }
 },
 "nbformat": 4,
 "nbformat_minor": 2
}
